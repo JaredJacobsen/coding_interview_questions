{
 "cells": [
  {
   "cell_type": "code",
   "execution_count": 1,
   "metadata": {
    "collapsed": true
   },
   "outputs": [],
   "source": [
    "class Stack(object):\n",
    "    def __init__(self, stack=[]):\n",
    "        self.stack = stack\n",
    "        \n",
    "    def push(self, x):\n",
    "        self.stack.append(x)\n",
    "        \n",
    "    def pop(self):\n",
    "        return None if self.is_empty() else self.stack.pop()\n",
    "    \n",
    "    def peek(self):\n",
    "        return None if self.is_empty() else self.stack[-1]\n",
    "    \n",
    "    def get_stack(self):\n",
    "        return self.stack\n",
    "\n",
    "    def is_empty(self):\n",
    "        return len(self.stack) == 0\n"
   ]
  },
  {
   "cell_type": "code",
   "execution_count": 9,
   "metadata": {
    "collapsed": true
   },
   "outputs": [],
   "source": [
    "#3.2\n",
    "\n",
    "# This can be made more efficient by keeping a second stack that contains only min elements. As elements are pushed, if\n",
    "# they are smaller than the top element of the second stack, that element is pushed on to the second stack as well.\n",
    "class MinStack(object):\n",
    "    def __init__(self, stack=[]):\n",
    "        self.stack = stack\n",
    "        \n",
    "    def push(self, x):\n",
    "        self.stack.append((x, x if self.is_empty() else min(x, self.stack[-1][1])))\n",
    "        \n",
    "    def pop(self):\n",
    "        return None if self.is_empty() else self.stack.pop()[0]\n",
    "    \n",
    "    def peek(self):\n",
    "        return None if self.is_empty() else self.stack[-1][0]\n",
    "    \n",
    "    def get_min():\n",
    "        return None if self.is_empty() else self.stack[-1][1]\n",
    "    \n",
    "    def get_stack(self):\n",
    "        return self.stack\n",
    "\n",
    "    def is_empty(self):\n",
    "        return len(self.stack) == 0"
   ]
  },
  {
   "cell_type": "code",
   "execution_count": null,
   "metadata": {
    "collapsed": false
   },
   "outputs": [],
   "source": [
    "#3.3\n",
    "\n",
    "class SetOfStacks(object):\n",
    "    "
   ]
  },
  {
   "cell_type": "code",
   "execution_count": null,
   "metadata": {
    "collapsed": true
   },
   "outputs": [],
   "source": [
    "#3.4\n",
    "\n",
    "class MyQueue(object):\n",
    "    def __init__(self):\n",
    "        \n",
    "\n"
   ]
  }
 ],
 "metadata": {
  "anaconda-cloud": {},
  "kernelspec": {
   "display_name": "Python [Root]",
   "language": "python",
   "name": "Python [Root]"
  },
  "language_info": {
   "codemirror_mode": {
    "name": "ipython",
    "version": 2
   },
   "file_extension": ".py",
   "mimetype": "text/x-python",
   "name": "python",
   "nbconvert_exporter": "python",
   "pygments_lexer": "ipython2",
   "version": "2.7.12"
  }
 },
 "nbformat": 4,
 "nbformat_minor": 0
}
