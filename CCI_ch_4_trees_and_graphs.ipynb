{
 "cells": [
  {
   "cell_type": "code",
   "execution_count": 1,
   "metadata": {
    "collapsed": false
   },
   "outputs": [
    {
     "name": "stdout",
     "output_type": "stream",
     "text": [
      "['A', 'B', 'D']\n",
      "True\n"
     ]
    }
   ],
   "source": [
    "# 4.1\n",
    "\n",
    "import Queue\n",
    "\n",
    "G1 = {\n",
    "    'a': ['b'],\n",
    "    'b': ['c'],\n",
    "    'c': ['d'],\n",
    "    'd': ['b'],\n",
    "}\n",
    "\n",
    "G2 = {'A': ['B', 'C'],\n",
    "     'B': ['C', 'D'],\n",
    "     'C': ['D'],\n",
    "     'D': ['C'],\n",
    "     'E': ['F'],\n",
    "     'F': ['C']}\n",
    "\n",
    "def find_route_between_nodes(G, start_node, end_node):\n",
    "    queue = Queue.Queue()\n",
    "    visited = {start_node}\n",
    "    queue.put((start_node, [start_node]))\n",
    "    while not queue.empty():\n",
    "        node, history = queue.get()\n",
    "        if node == end_node:\n",
    "            return history\n",
    "        for n in G[node]:\n",
    "            if n not in visited:\n",
    "                visited.add(n) \n",
    "                queue.put((n, history + [n]))\n",
    "    return history\n",
    "\n",
    "def find_route_between_nodes_bidirectional(G, node1, node2):\n",
    "    q1 = Queue.Queue()\n",
    "    q2 = Queue.Queue()\n",
    "    visited1 = {node1}\n",
    "    visited2 = {node2}\n",
    "    q1.put(node1)\n",
    "    q2.put(node2)\n",
    "    toggle = True\n",
    "    while not q1.empty() or not q2.empty():\n",
    "        if toggle:\n",
    "            node = q1.get()\n",
    "            if node in visited2:\n",
    "                return True\n",
    "            for n in G[node]:\n",
    "                if n not in visited1:\n",
    "                    visited1.add(n)\n",
    "                    q1.put(n)\n",
    "        else:\n",
    "            node = q2.get()\n",
    "            if node in visited1:\n",
    "                return True\n",
    "            for n in G[node]:\n",
    "                if n not in visited2:\n",
    "                    visited2.add(n)\n",
    "                    q2.put(n)\n",
    "        toggle = not toggle\n",
    "    return False\n",
    "\n",
    "\n",
    "print find_route_between_nodes(G2, 'A', 'D')\n",
    "print find_route_between_nodes_bidirectional(G2, 'A', 'D')"
   ]
  },
  {
   "cell_type": "code",
   "execution_count": 2,
   "metadata": {
    "collapsed": false
   },
   "outputs": [
    {
     "name": "stdout",
     "output_type": "stream",
     "text": [
      "((((), (1,), ()), 3, ((), (6,), ())), 5, (((), (7,), ()), 8, ((), (9,), ())))\n"
     ]
    }
   ],
   "source": [
    "#4.2\n",
    "\n",
    "#takes sorted array\n",
    "def create_BST(arr):\n",
    "    if len(arr) == 1:\n",
    "        return ((), tuple(arr), ())\n",
    "    mid = len(arr)/2\n",
    "    return (create_BST(arr[0:mid]), arr[mid], create_BST(arr[mid + 1:]) )\n",
    "\n",
    "print create_BST([1,3,6,5,7,8,9])"
   ]
  },
  {
   "cell_type": "code",
   "execution_count": 3,
   "metadata": {
    "collapsed": true
   },
   "outputs": [],
   "source": [
    "#4.3\n",
    "\n",
    "class Tree(object):\n",
    "    def __init__(self, x=None, l=None, r=None):\n",
    "        self.x = x\n",
    "        self.l = l\n",
    "        self.r = r\n",
    "\n",
    "class LL_Node(object):\n",
    "    def __init__(self, x=None, next_node=None):\n",
    "        self.x = x\n",
    "        self.next_node = next_node\n",
    "        \n",
    "\n",
    "class Linked_List(object):\n",
    "    def __init__(self, x=None):\n",
    "        self.first = LL_Node(x)\n",
    "        self.last = LL_Node(x)\n",
    "        \n",
    "    def add(self, x):\n",
    "        self.last.next_node = LL_Node(x)\n",
    "        self.last = self.last.next_node\n",
    "    \n",
    "    def __print__(self, x):\n",
    "        print 'something'\n",
    "\n",
    "def list_of_depths(binary_tree, ll_list=[], depth=0):\n",
    "    if binary_tree is None:\n",
    "        return\n",
    "    if len(ll_list) >= depth + 1:\n",
    "        ll_list[depth].add(binary_tree.x)\n",
    "    else:\n",
    "        ll_list.append(Linked_List(binary_tree.x))\n",
    "    list_of_depths(binary_tree.l, ll_list, depth=depth + 1)\n",
    "    list_of_depths(binary_tree.r, ll_list, depth=depth + 1)\n",
    "    return ll_list"
   ]
  },
  {
   "cell_type": "code",
   "execution_count": 4,
   "metadata": {
    "collapsed": true
   },
   "outputs": [],
   "source": [
    "#4.4\n",
    "\n",
    "def check_balance(binary_tree, height=0):\n",
    "    if binary_tree is None:\n",
    "        return height\n",
    "    l_height = check_balance(binary_tree.l, height + 1)\n",
    "    r_height = check_balance(binary_tree.r, height + 1)\n",
    "    if not l_height or not r_height:\n",
    "        return False\n",
    "    if abs(l_height - r_height) > 1:\n",
    "        return False\n",
    "    return max(l_height, r_height)\n",
    "\n",
    "    "
   ]
  },
  {
   "cell_type": "code",
   "execution_count": 5,
   "metadata": {
    "collapsed": true
   },
   "outputs": [],
   "source": [
    "#4.5\n",
    "\n",
    "def validate_BST(bt, values=[]):\n",
    "    if bt is None:\n",
    "        return []  \n",
    "    l = validate_BST(bt.l)\n",
    "    r = validate_BST(bt.r)   \n",
    "    if l is False or r is False:\n",
    "        return False\n",
    "    if sum([True for n in l if n >= bt.x] + [True for n in r if n < bt.x]) > 0:\n",
    "        return False    \n",
    "    return l + [bt.x] + r"
   ]
  },
  {
   "cell_type": "code",
   "execution_count": null,
   "metadata": {
    "collapsed": true
   },
   "outputs": [],
   "source": []
  }
 ],
 "metadata": {
  "anaconda-cloud": {},
  "kernelspec": {
   "display_name": "Python [Root]",
   "language": "python",
   "name": "Python [Root]"
  },
  "language_info": {
   "codemirror_mode": {
    "name": "ipython",
    "version": 2
   },
   "file_extension": ".py",
   "mimetype": "text/x-python",
   "name": "python",
   "nbconvert_exporter": "python",
   "pygments_lexer": "ipython2",
   "version": "2.7.12"
  }
 },
 "nbformat": 4,
 "nbformat_minor": 0
}
