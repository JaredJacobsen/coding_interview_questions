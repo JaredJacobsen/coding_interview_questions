{
 "cells": [
  {
   "cell_type": "code",
   "execution_count": 34,
   "metadata": {
    "collapsed": false
   },
   "outputs": [
    {
     "name": "stdout",
     "output_type": "stream",
     "text": [
      "1 3 2 5\n"
     ]
    }
   ],
   "source": [
    "import pdb\n",
    "\n",
    "class Node(object):\n",
    "    \n",
    "    def __init__(self, x):\n",
    "        self.x = x\n",
    "        self.succ = None\n",
    "        \n",
    "    def append_to_tail(self, x):\n",
    "        n = self\n",
    "        while n.succ != None:\n",
    "            n = n.succ\n",
    "        n.succ = Node(x)\n",
    "        \n",
    "    def __str__(self):\n",
    "        values = []\n",
    "        values.append(self.x)\n",
    "        n = self\n",
    "        while n.succ != None:\n",
    "            values.append(n.succ.x)\n",
    "            n = n.succ\n",
    "        return ' '.join(map(str, values))\n",
    "\n",
    "class Linked_List(object):\n",
    "    def __init__(self, x):\n",
    "        self.head = Node(x)\n",
    "        \n",
    "def delete_node(head, x):\n",
    "    n = head\n",
    "    if n.x == x:\n",
    "        return head.succ\n",
    "    while n.succ != None:\n",
    "        if n.succ.x == x:\n",
    "            n.succ = n.succ.succ\n",
    "            return head\n",
    "        n = n.succ\n",
    "    return head\n",
    "\n",
    "def create_ll(arr):\n",
    "    n = Node(arr[0])\n",
    "    for i in arr[1:]:\n",
    "        n.append_to_tail(i)\n",
    "    return n\n",
    "\n",
    "n = create_ll([1,3,2,2,5])\n",
    "print delete_node(n, 2)"
   ]
  },
  {
   "cell_type": "code",
   "execution_count": 51,
   "metadata": {
    "collapsed": false
   },
   "outputs": [
    {
     "name": "stdout",
     "output_type": "stream",
     "text": [
      "1 5 3 6\n"
     ]
    }
   ],
   "source": [
    "#2.1\n",
    "\n",
    "def remove_duplicates(head):\n",
    "    n = head\n",
    "    seen = {n.x} \n",
    "    while n.succ != None:\n",
    "        while n.succ is not None and n.succ.x in seen:\n",
    "            x = n.succ.x\n",
    "            if n.succ.succ is not None:\n",
    "                n.succ = n.succ.succ\n",
    "            while n.succ is not None and n.succ.x == x:\n",
    "                n.succ = n.succ.succ\n",
    "        if n.succ is not None:\n",
    "            seen.add(n.succ.x)\n",
    "            n = n.succ\n",
    "    return head\n",
    "\n",
    "def _remove_duplicates_rec(n, seen):\n",
    "    if n is None: \n",
    "        return None\n",
    "    if n.x in seen:\n",
    "        return _remove_duplicates_rec(n.succ, seen)\n",
    "    seen.add(n.x)\n",
    "    n.succ = _remove_duplicates_rec(n.succ, seen)\n",
    "    return n\n",
    "        \n",
    "def remove_duplicates_rec(head):\n",
    "    if head is None:\n",
    "        return None\n",
    "    return _remove_duplicates_rec(head, set())\n",
    "\n",
    "\n",
    "# n = create_ll([1,5,3,6,5,5,3,1])\n",
    "# print remove_duplicates(n)\n",
    "\n",
    "n = create_ll([1,5,3,6,5,5,3,1])\n",
    "print remove_duplicates_rec(n)"
   ]
  },
  {
   "cell_type": "code",
   "execution_count": 68,
   "metadata": {
    "collapsed": false
   },
   "outputs": [
    {
     "name": "stdout",
     "output_type": "stream",
     "text": [
      "5\n"
     ]
    }
   ],
   "source": [
    "#2.2\n",
    "\n",
    "def kth_to_last(n, k, prev=[]):\n",
    "    if n is None:\n",
    "        return None if len(prev) < k else prev[0]\n",
    "    return kth_to_last(n.succ, k, (prev if len(prev) < k else prev[1:k]) + [n.x])\n",
    "    \n",
    "n = create_ll([1,2,3,4,5,6,7,8,9])\n",
    "print kth_to_last(n, 5)"
   ]
  },
  {
   "cell_type": "code",
   "execution_count": 81,
   "metadata": {
    "collapsed": false
   },
   "outputs": [
    {
     "name": "stdout",
     "output_type": "stream",
     "text": [
      "1 2 4 5 6 7 8 9\n",
      "1 2 4 5 6 7 8 9\n"
     ]
    }
   ],
   "source": [
    "#2.3\n",
    "\n",
    "def delete_middle_node(node):\n",
    "    n = node\n",
    "    while n.succ is not None:\n",
    "        n.x = n.succ.x\n",
    "        prev = n\n",
    "        n = n.succ\n",
    "    prev.succ = None\n",
    "    return node\n",
    "\n",
    "def delete_middle_node_recursive(n):\n",
    "    if n.succ is None: return None\n",
    "    n.x = n.succ.x\n",
    "    n.succ = delete_middle_node_recursive(n.succ)\n",
    "    return n\n",
    "    \n",
    "l = create_ll([1,2,3,4,5,6,7,8,9])\n",
    "delete_middle_node(l.succ.succ)  \n",
    "print l\n",
    "\n",
    "l = create_ll([1,2,3,4,5,6,7,8,9])\n",
    "delete_middle_node_recursive(l.succ.succ)  \n",
    "print l"
   ]
  },
  {
   "cell_type": "code",
   "execution_count": 62,
   "metadata": {
    "collapsed": false
   },
   "outputs": [
    {
     "data": {
      "text/plain": [
       "6"
      ]
     },
     "execution_count": 62,
     "metadata": {},
     "output_type": "execute_result"
    }
   ],
   "source": [
    "#2.4\n",
    "\n",
    "def partition(n, p):\n",
    "    smaller_start, smaller_end, larger_start, larger_end  = None\n",
    "    if n.x < p:\n",
    "        smaller_start = smaller_end = n\n",
    "    else:\n",
    "        larger_start = larger_end = n\n",
    "    while n.succ != None:\n",
    "        if n.succ.x < p:\n",
    "            if smaller_start is None:\n",
    "                smaller_start = smaller_end = n.succ\n",
    "            else:\n",
    "                smaller_end.succ = n.succ\n",
    "                smaller_end = n.succ\n",
    "        else:\n",
    "            if larger_start is None:\n",
    "                larger_start = larger_end = n.succ\n",
    "            is larger is None:\n",
    "                larger_end.succ = n.succ\n",
    "                larger_end = n.succ\n",
    "        n = n.succ                \n",
    "\n",
    "        "
   ]
  },
  {
   "cell_type": "code",
   "execution_count": 82,
   "metadata": {
    "collapsed": true
   },
   "outputs": [],
   "source": [
    "#2.5\n",
    "\n",
    "def sum_lists(n, n2):\n",
    "    carry = 0\n",
    "    p = 1\n",
    "    result_start = result_end = None\n",
    "    while n != None or n2 != None:\n",
    "        a = n.x if n is not None else 0\n",
    "        b = n2.x if n2 is not None else 0\n",
    "        new_node = Node((a + b) % 10 + carry)\n",
    "        if result is None:\n",
    "            result_start = result_end = new_node\n",
    "        else:\n",
    "            result_end.succ = new_node\n",
    "            result_end = new_node\n",
    "        carry = (a + b)/10\n",
    "    return result_start\n",
    "        \n",
    "        \n",
    "        "
   ]
  },
  {
   "cell_type": "code",
   "execution_count": 86,
   "metadata": {
    "collapsed": false
   },
   "outputs": [
    {
     "data": {
      "text/plain": [
       "32"
      ]
     },
     "execution_count": 86,
     "metadata": {},
     "output_type": "execute_result"
    }
   ],
   "source": [
    "#2.6\n",
    "\n",
    "def reverse_copy(n):\n",
    "    n_rev = Node(n.x)\n",
    "    while n.succ != None:\n",
    "        new_n = Node(n.succ.x)\n",
    "        new_n.succ = n_rev\n",
    "        n_rev = new_n\n",
    "    return n_rev\n",
    "    \n",
    "\n",
    "def is_palindrome(n):\n",
    "    if n is None: return True\n",
    "    n_rev = reverse_copy(n)\n",
    "    while n is not None:\n",
    "        if n.x != n_rev.x:\n",
    "            return False\n",
    "        n = n.succ\n",
    "        n_rev = n_rev.succ\n",
    "    return True\n",
    "        \n",
    "    \n",
    "        \n",
    "        \n",
    "    "
   ]
  },
  {
   "cell_type": "code",
   "execution_count": null,
   "metadata": {
    "collapsed": true
   },
   "outputs": [],
   "source": [
    "#2.7\n",
    "\n",
    "def is_intersecting(head, head2):\n",
    "    n = head\n",
    "    n2 = head2\n",
    "    while n is not None:\n",
    "        while n2 is not None:\n",
    "            if n is n2: return True\n",
    "            n2 = n2.succ\n",
    "        n = n.succ\n",
    "    return False\n"
   ]
  }
 ],
 "metadata": {
  "anaconda-cloud": {},
  "kernelspec": {
   "display_name": "Python [Root]",
   "language": "python",
   "name": "Python [Root]"
  },
  "language_info": {
   "codemirror_mode": {
    "name": "ipython",
    "version": 2
   },
   "file_extension": ".py",
   "mimetype": "text/x-python",
   "name": "python",
   "nbconvert_exporter": "python",
   "pygments_lexer": "ipython2",
   "version": "2.7.12"
  }
 },
 "nbformat": 4,
 "nbformat_minor": 0
}
