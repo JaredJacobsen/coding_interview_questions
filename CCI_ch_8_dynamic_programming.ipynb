{
 "cells": [
  {
   "cell_type": "markdown",
   "metadata": {},
   "source": [
    "Dynamic programming is basically recursion with caching."
   ]
  },
  {
   "cell_type": "code",
   "execution_count": 24,
   "metadata": {
    "collapsed": true
   },
   "outputs": [],
   "source": [
    "#8.1\n",
    "\n",
    "def triple_step(n):\n",
    "    if n == 1: return 1\n",
    "    if n == 2: return 2\n",
    "    if n == 3: return 4\n",
    "    return triple_step(n - 1) + triple_step(n - 2) + triple_step(n - 3)\n",
    "\n",
    "#bottom-up dynamic programming\n",
    "def triple_step_DP(n):\n",
    "    if n == 1: return 1\n",
    "    if n == 2: return 2\n",
    "    if n == 3: return 4\n",
    "    memo = [0, 1, 2, 4]\n",
    "    for i in xrange(4, n):\n",
    "        memo.append(memo[i - 1] + memo[i - 2] + memo[i - 3])\n",
    "    return memo[-1]\n",
    "\n",
    "#top-down dynamic programming\n",
    "def triple_step_DP_top_down(n, memo = {}):\n",
    "    if n == 1: return 1\n",
    "    if n == 2: return 2\n",
    "    if n == 3: return 4\n",
    "    if n not in memo:\n",
    "        memo[n] = triple_step_DP_top_down(n - 1, memo) + triple_step_DP_top_down(n - 2, memo) + triple_step_DP_top_down(n - 3, memo)\n",
    "    return memo[n]"
   ]
  },
  {
   "cell_type": "code",
   "execution_count": 25,
   "metadata": {
    "collapsed": true
   },
   "outputs": [
    {
     "name": "stdout",
     "output_type": "stream",
     "text": [
      "7\n",
      "13\n",
      "24\n",
      "44\n",
      "81\n",
      "149\n",
      "274\n",
      "504\n",
      "927\n",
      "1705\n",
      "\n",
      "\n",
      "4\n",
      "7\n",
      "13\n",
      "24\n",
      "44\n",
      "81\n",
      "149\n",
      "274\n",
      "504\n",
      "927\n",
      "\n",
      "\n",
      "7\n",
      "13\n",
      "24\n",
      "44\n",
      "81\n",
      "149\n",
      "274\n",
      "504\n",
      "927\n",
      "1705\n",
      "\n",
      "\n"
     ]
    }
   ],
   "source": [
    "for f in [triple_step, triple_step_DP, triple_step_DP_top_down]:\n",
    "    for n in [4,5,6,7,8,9,10,11,12,13]:\n",
    "        print f(n)\n",
    "    print '\\n'"
   ]
  },
  {
   "cell_type": "code",
   "execution_count": 3,
   "metadata": {
    "collapsed": false
   },
   "outputs": [],
   "source": [
    "#8.2\n",
    "def find_magic_index(arr, start=0, end=1):\n",
    "    if end < start:\n",
    "        return -1\n",
    "    mid = (start + end)/2\n",
    "    if arr[mid] == mid:\n",
    "        return mid\n",
    "    elif arr[mid] > mid:\n",
    "        return find_magic_index(arr, start, mid - 1)\n",
    "    else:\n",
    "        return find_magic_index(arr, mid + 1, end)"
   ]
  },
  {
   "cell_type": "code",
   "execution_count": 76,
   "metadata": {
    "collapsed": false
   },
   "outputs": [
    {
     "name": "stdout",
     "output_type": "stream",
     "text": [
      "2 2\n",
      "2 1\n",
      "2 1 False\n",
      "1 2\n",
      "0 2\n",
      "0 1\n",
      "0 0\n",
      "[(0, 0), (0, 0)]\n",
      "0 1 [(0, 0), (0, 0)]\n",
      "[(0, 1), (0, 0), (0, 0)]\n",
      "0 2 [(0, 1), (0, 0), (0, 0)]\n",
      "1 2 [(0, 2), (0, 1), (0, 0), (0, 0)]\n",
      "2 2 [(1, 2), (0, 2), (0, 1), (0, 0), (0, 0)]\n"
     ]
    },
    {
     "data": {
      "text/plain": [
       "[(1, 2), (0, 2), (0, 1), (0, 0), (0, 0)]"
      ]
     },
     "execution_count": 76,
     "metadata": {},
     "output_type": "execute_result"
    }
   ],
   "source": [
    "#8.3\n",
    "def find_path(mat, x, y):\n",
    "    if x == 0 and y == 0:\n",
    "        return []\n",
    "\n",
    "    if mat[x][y - 1] == 'blocked':\n",
    "        return find_path(mat, x, y - 1) + [(x, y - 1)]\n",
    "\n",
    "    if mat[x - 1][y] == 'blocked':\n",
    "        return find_path(mat, x - 1, y) + [(x - 1, y)]\n",
    "\n",
    "\n",
    "def find_path_DP(mat, x, y, memo={}):\n",
    "    print x,y\n",
    "    if x == 0 and y == 0:\n",
    "        return [(0,0)]\n",
    "    if (x,y) not in memo:\n",
    "        if y - 1 >= 0 and mat[x][y - 1] != 0:\n",
    "            path = find_path_DP(mat, x, y - 1, memo)\n",
    "            if isinstance(path, list): \n",
    "                print [(x, y - 1)] + path\n",
    "                memo[(x,y)] = [(x, y - 1)] + path\n",
    "        if x - 1 >= 0 and mat[x - 1][y] != 0 and (x,y) not in memo:\n",
    "            path = find_path_DP(mat, x - 1, y, memo)\n",
    "            if isinstance(path, list): \n",
    "                memo[(x,y)] = [(x - 1, y)] + path\n",
    "            else: \n",
    "                memo[(x,y)] = False\n",
    "        if (x,y) not in memo:\n",
    "            memo[(x,y)] = False\n",
    "    print x,y, memo[(x,y)]\n",
    "    return memo[(x,y)]\n",
    "\n",
    "mat = [[1,1,1], [0,0,1], [0,1,1]]\n",
    "find_path_DP(mat, 2, 2)"
   ]
  },
  {
   "cell_type": "code",
   "execution_count": 138,
   "metadata": {
    "collapsed": false
   },
   "outputs": [
    {
     "name": "stdout",
     "output_type": "stream",
     "text": [
      "(5,)\n",
      "(5,)\n"
     ]
    },
    {
     "ename": "TypeError",
     "evalue": "unsupported operand type(s) for +: 'generator' and 'tuple'",
     "output_type": "error",
     "traceback": [
      "\u001b[0;31m---------------------------------------------------------------------------\u001b[0m",
      "\u001b[0;31mTypeError\u001b[0m                                 Traceback (most recent call last)",
      "\u001b[0;32m<ipython-input-138-a0ca9455549a>\u001b[0m in \u001b[0;36m<module>\u001b[0;34m()\u001b[0m\n\u001b[1;32m     23\u001b[0m \u001b[0;34m\u001b[0m\u001b[0m\n\u001b[1;32m     24\u001b[0m \u001b[0;34m\u001b[0m\u001b[0m\n\u001b[0;32m---> 25\u001b[0;31m \u001b[0mlen\u001b[0m\u001b[0;34m(\u001b[0m\u001b[0mget_subsets\u001b[0m\u001b[0;34m(\u001b[0m\u001b[0;34m{\u001b[0m\u001b[0;36m1\u001b[0m\u001b[0;34m,\u001b[0m\u001b[0;36m2\u001b[0m\u001b[0;34m,\u001b[0m\u001b[0;36m3\u001b[0m\u001b[0;34m,\u001b[0m\u001b[0;36m4\u001b[0m\u001b[0;34m,\u001b[0m\u001b[0;36m5\u001b[0m\u001b[0;34m}\u001b[0m\u001b[0;34m)\u001b[0m\u001b[0;34m)\u001b[0m\u001b[0;34m\u001b[0m\u001b[0m\n\u001b[0m",
      "\u001b[0;32m<ipython-input-138-a0ca9455549a>\u001b[0m in \u001b[0;36mget_subsets\u001b[0;34m(s)\u001b[0m\n\u001b[1;32m      9\u001b[0m \u001b[0;32mdef\u001b[0m \u001b[0mget_subsets\u001b[0m\u001b[0;34m(\u001b[0m\u001b[0ms\u001b[0m\u001b[0;34m)\u001b[0m\u001b[0;34m:\u001b[0m\u001b[0;34m\u001b[0m\u001b[0m\n\u001b[1;32m     10\u001b[0m     \u001b[0melements\u001b[0m \u001b[0;34m=\u001b[0m \u001b[0mtuple\u001b[0m\u001b[0;34m(\u001b[0m\u001b[0ms\u001b[0m\u001b[0;34m)\u001b[0m\u001b[0;34m\u001b[0m\u001b[0m\n\u001b[0;32m---> 11\u001b[0;31m     \u001b[0;32mreturn\u001b[0m \u001b[0m_get_subsets\u001b[0m\u001b[0;34m(\u001b[0m\u001b[0melements\u001b[0m\u001b[0;34m)\u001b[0m\u001b[0;34m\u001b[0m\u001b[0m\n\u001b[0m\u001b[1;32m     12\u001b[0m \u001b[0;34m\u001b[0m\u001b[0m\n\u001b[1;32m     13\u001b[0m \u001b[0;32mdef\u001b[0m \u001b[0m_get_subsets_memoized\u001b[0m\u001b[0;34m(\u001b[0m\u001b[0melements\u001b[0m\u001b[0;34m,\u001b[0m \u001b[0mmemo\u001b[0m\u001b[0;34m)\u001b[0m\u001b[0;34m:\u001b[0m\u001b[0;34m\u001b[0m\u001b[0m\n",
      "\u001b[0;32m<ipython-input-138-a0ca9455549a>\u001b[0m in \u001b[0;36m_get_subsets\u001b[0;34m(elements)\u001b[0m\n\u001b[1;32m      5\u001b[0m         \u001b[0;32mprint\u001b[0m \u001b[0melements\u001b[0m\u001b[0;34m\u001b[0m\u001b[0m\n\u001b[1;32m      6\u001b[0m         \u001b[0;32mreturn\u001b[0m \u001b[0;34m(\u001b[0m\u001b[0melements\u001b[0m\u001b[0;34m,\u001b[0m \u001b[0;34m(\u001b[0m\u001b[0;34m)\u001b[0m\u001b[0;34m)\u001b[0m\u001b[0;34m\u001b[0m\u001b[0m\n\u001b[0;32m----> 7\u001b[0;31m     \u001b[0;32mreturn\u001b[0m \u001b[0;34m(\u001b[0m\u001b[0;34m(\u001b[0m\u001b[0melements\u001b[0m\u001b[0;34m[\u001b[0m\u001b[0;36m0\u001b[0m\u001b[0;34m]\u001b[0m\u001b[0;34m,\u001b[0m\u001b[0;34m)\u001b[0m \u001b[0;34m+\u001b[0m \u001b[0;34m(\u001b[0m\u001b[0ms\u001b[0m\u001b[0;34m,\u001b[0m\u001b[0;34m)\u001b[0m \u001b[0;32mfor\u001b[0m \u001b[0ms\u001b[0m \u001b[0;32min\u001b[0m \u001b[0m_get_subsets\u001b[0m\u001b[0;34m(\u001b[0m\u001b[0melements\u001b[0m\u001b[0;34m[\u001b[0m\u001b[0;36m1\u001b[0m\u001b[0;34m:\u001b[0m\u001b[0;34m]\u001b[0m\u001b[0;34m)\u001b[0m\u001b[0;34m)\u001b[0m \u001b[0;34m+\u001b[0m \u001b[0m_get_subsets\u001b[0m\u001b[0;34m(\u001b[0m\u001b[0melements\u001b[0m\u001b[0;34m[\u001b[0m\u001b[0;36m1\u001b[0m\u001b[0;34m:\u001b[0m\u001b[0;34m]\u001b[0m\u001b[0;34m)\u001b[0m\u001b[0;34m\u001b[0m\u001b[0m\n\u001b[0m\u001b[1;32m      8\u001b[0m \u001b[0;34m\u001b[0m\u001b[0m\n\u001b[1;32m      9\u001b[0m \u001b[0;32mdef\u001b[0m \u001b[0mget_subsets\u001b[0m\u001b[0;34m(\u001b[0m\u001b[0ms\u001b[0m\u001b[0;34m)\u001b[0m\u001b[0;34m:\u001b[0m\u001b[0;34m\u001b[0m\u001b[0m\n",
      "\u001b[0;32m<ipython-input-138-a0ca9455549a>\u001b[0m in \u001b[0;36m_get_subsets\u001b[0;34m(elements)\u001b[0m\n\u001b[1;32m      5\u001b[0m         \u001b[0;32mprint\u001b[0m \u001b[0melements\u001b[0m\u001b[0;34m\u001b[0m\u001b[0m\n\u001b[1;32m      6\u001b[0m         \u001b[0;32mreturn\u001b[0m \u001b[0;34m(\u001b[0m\u001b[0melements\u001b[0m\u001b[0;34m,\u001b[0m \u001b[0;34m(\u001b[0m\u001b[0;34m)\u001b[0m\u001b[0;34m)\u001b[0m\u001b[0;34m\u001b[0m\u001b[0m\n\u001b[0;32m----> 7\u001b[0;31m     \u001b[0;32mreturn\u001b[0m \u001b[0;34m(\u001b[0m\u001b[0;34m(\u001b[0m\u001b[0melements\u001b[0m\u001b[0;34m[\u001b[0m\u001b[0;36m0\u001b[0m\u001b[0;34m]\u001b[0m\u001b[0;34m,\u001b[0m\u001b[0;34m)\u001b[0m \u001b[0;34m+\u001b[0m \u001b[0;34m(\u001b[0m\u001b[0ms\u001b[0m\u001b[0;34m,\u001b[0m\u001b[0;34m)\u001b[0m \u001b[0;32mfor\u001b[0m \u001b[0ms\u001b[0m \u001b[0;32min\u001b[0m \u001b[0m_get_subsets\u001b[0m\u001b[0;34m(\u001b[0m\u001b[0melements\u001b[0m\u001b[0;34m[\u001b[0m\u001b[0;36m1\u001b[0m\u001b[0;34m:\u001b[0m\u001b[0;34m]\u001b[0m\u001b[0;34m)\u001b[0m\u001b[0;34m)\u001b[0m \u001b[0;34m+\u001b[0m \u001b[0m_get_subsets\u001b[0m\u001b[0;34m(\u001b[0m\u001b[0melements\u001b[0m\u001b[0;34m[\u001b[0m\u001b[0;36m1\u001b[0m\u001b[0;34m:\u001b[0m\u001b[0;34m]\u001b[0m\u001b[0;34m)\u001b[0m\u001b[0;34m\u001b[0m\u001b[0m\n\u001b[0m\u001b[1;32m      8\u001b[0m \u001b[0;34m\u001b[0m\u001b[0m\n\u001b[1;32m      9\u001b[0m \u001b[0;32mdef\u001b[0m \u001b[0mget_subsets\u001b[0m\u001b[0;34m(\u001b[0m\u001b[0ms\u001b[0m\u001b[0;34m)\u001b[0m\u001b[0;34m:\u001b[0m\u001b[0;34m\u001b[0m\u001b[0m\n",
      "\u001b[0;32m<ipython-input-138-a0ca9455549a>\u001b[0m in \u001b[0;36m_get_subsets\u001b[0;34m(elements)\u001b[0m\n\u001b[1;32m      5\u001b[0m         \u001b[0;32mprint\u001b[0m \u001b[0melements\u001b[0m\u001b[0;34m\u001b[0m\u001b[0m\n\u001b[1;32m      6\u001b[0m         \u001b[0;32mreturn\u001b[0m \u001b[0;34m(\u001b[0m\u001b[0melements\u001b[0m\u001b[0;34m,\u001b[0m \u001b[0;34m(\u001b[0m\u001b[0;34m)\u001b[0m\u001b[0;34m)\u001b[0m\u001b[0;34m\u001b[0m\u001b[0m\n\u001b[0;32m----> 7\u001b[0;31m     \u001b[0;32mreturn\u001b[0m \u001b[0;34m(\u001b[0m\u001b[0;34m(\u001b[0m\u001b[0melements\u001b[0m\u001b[0;34m[\u001b[0m\u001b[0;36m0\u001b[0m\u001b[0;34m]\u001b[0m\u001b[0;34m,\u001b[0m\u001b[0;34m)\u001b[0m \u001b[0;34m+\u001b[0m \u001b[0;34m(\u001b[0m\u001b[0ms\u001b[0m\u001b[0;34m,\u001b[0m\u001b[0;34m)\u001b[0m \u001b[0;32mfor\u001b[0m \u001b[0ms\u001b[0m \u001b[0;32min\u001b[0m \u001b[0m_get_subsets\u001b[0m\u001b[0;34m(\u001b[0m\u001b[0melements\u001b[0m\u001b[0;34m[\u001b[0m\u001b[0;36m1\u001b[0m\u001b[0;34m:\u001b[0m\u001b[0;34m]\u001b[0m\u001b[0;34m)\u001b[0m\u001b[0;34m)\u001b[0m \u001b[0;34m+\u001b[0m \u001b[0m_get_subsets\u001b[0m\u001b[0;34m(\u001b[0m\u001b[0melements\u001b[0m\u001b[0;34m[\u001b[0m\u001b[0;36m1\u001b[0m\u001b[0;34m:\u001b[0m\u001b[0;34m]\u001b[0m\u001b[0;34m)\u001b[0m\u001b[0;34m\u001b[0m\u001b[0m\n\u001b[0m\u001b[1;32m      8\u001b[0m \u001b[0;34m\u001b[0m\u001b[0m\n\u001b[1;32m      9\u001b[0m \u001b[0;32mdef\u001b[0m \u001b[0mget_subsets\u001b[0m\u001b[0;34m(\u001b[0m\u001b[0ms\u001b[0m\u001b[0;34m)\u001b[0m\u001b[0;34m:\u001b[0m\u001b[0;34m\u001b[0m\u001b[0m\n",
      "\u001b[0;32m<ipython-input-138-a0ca9455549a>\u001b[0m in \u001b[0;36m_get_subsets\u001b[0;34m(elements)\u001b[0m\n\u001b[1;32m      5\u001b[0m         \u001b[0;32mprint\u001b[0m \u001b[0melements\u001b[0m\u001b[0;34m\u001b[0m\u001b[0m\n\u001b[1;32m      6\u001b[0m         \u001b[0;32mreturn\u001b[0m \u001b[0;34m(\u001b[0m\u001b[0melements\u001b[0m\u001b[0;34m,\u001b[0m \u001b[0;34m(\u001b[0m\u001b[0;34m)\u001b[0m\u001b[0;34m)\u001b[0m\u001b[0;34m\u001b[0m\u001b[0m\n\u001b[0;32m----> 7\u001b[0;31m     \u001b[0;32mreturn\u001b[0m \u001b[0;34m(\u001b[0m\u001b[0;34m(\u001b[0m\u001b[0melements\u001b[0m\u001b[0;34m[\u001b[0m\u001b[0;36m0\u001b[0m\u001b[0;34m]\u001b[0m\u001b[0;34m,\u001b[0m\u001b[0;34m)\u001b[0m \u001b[0;34m+\u001b[0m \u001b[0;34m(\u001b[0m\u001b[0ms\u001b[0m\u001b[0;34m,\u001b[0m\u001b[0;34m)\u001b[0m \u001b[0;32mfor\u001b[0m \u001b[0ms\u001b[0m \u001b[0;32min\u001b[0m \u001b[0m_get_subsets\u001b[0m\u001b[0;34m(\u001b[0m\u001b[0melements\u001b[0m\u001b[0;34m[\u001b[0m\u001b[0;36m1\u001b[0m\u001b[0;34m:\u001b[0m\u001b[0;34m]\u001b[0m\u001b[0;34m)\u001b[0m\u001b[0;34m)\u001b[0m \u001b[0;34m+\u001b[0m \u001b[0m_get_subsets\u001b[0m\u001b[0;34m(\u001b[0m\u001b[0melements\u001b[0m\u001b[0;34m[\u001b[0m\u001b[0;36m1\u001b[0m\u001b[0;34m:\u001b[0m\u001b[0;34m]\u001b[0m\u001b[0;34m)\u001b[0m\u001b[0;34m\u001b[0m\u001b[0m\n\u001b[0m\u001b[1;32m      8\u001b[0m \u001b[0;34m\u001b[0m\u001b[0m\n\u001b[1;32m      9\u001b[0m \u001b[0;32mdef\u001b[0m \u001b[0mget_subsets\u001b[0m\u001b[0;34m(\u001b[0m\u001b[0ms\u001b[0m\u001b[0;34m)\u001b[0m\u001b[0;34m:\u001b[0m\u001b[0;34m\u001b[0m\u001b[0m\n",
      "\u001b[0;31mTypeError\u001b[0m: unsupported operand type(s) for +: 'generator' and 'tuple'"
     ]
    }
   ],
   "source": [
    "#8.4\n",
    "\n",
    "def _get_subsets(elements):\n",
    "    if len(elements) == 1:\n",
    "        print elements\n",
    "        return (elements, ())\n",
    "    return ((elements[0],) + s for s in _get_subsets(elements[1:])) + _get_subsets(elements[1:])\n",
    "\n",
    "def get_subsets(s):\n",
    "    elements = tuple(s)\n",
    "    return _get_subsets(elements)\n",
    "\n",
    "def _get_subsets_memoized(elements, memo):\n",
    "    if len(elements) == 1:\n",
    "        return [elements, []]\n",
    "    if elements not in memo:\n",
    "        memo = [elements, []]\n",
    "    return [[elements[0]] + s for s in _get_subsets_memoized(elements[1:])] + _get_subsets_memoized(elements[1:])\n",
    "\n",
    "def get_subsets_memoized(s):\n",
    "    elements = tuple(s)\n",
    "    return _get_subsets_memoized(elements, {})\n",
    "\n",
    "\n",
    "len(get_subsets({1,2,3,4,5}))"
   ]
  },
  {
   "cell_type": "code",
   "execution_count": 127,
   "metadata": {
    "collapsed": false
   },
   "outputs": [
    {
     "data": {
      "text/plain": [
       "((1, 2), (5, 6), (3, 4))"
      ]
     },
     "execution_count": 127,
     "metadata": {},
     "output_type": "execute_result"
    }
   ],
   "source": [
    "((1,2), (5,6)) + ((3,4),)"
   ]
  },
  {
   "cell_type": "code",
   "execution_count": 126,
   "metadata": {
    "collapsed": false
   },
   "outputs": [
    {
     "data": {
      "text/plain": [
       "([1, 2], [3, 4])"
      ]
     },
     "execution_count": 126,
     "metadata": {},
     "output_type": "execute_result"
    }
   ],
   "source": [
    "tuple([[1,2], [3,4]])"
   ]
  },
  {
   "cell_type": "code",
   "execution_count": 128,
   "metadata": {
    "collapsed": false
   },
   "outputs": [
    {
     "ename": "TypeError",
     "evalue": "can only concatenate tuple (not \"int\") to tuple",
     "output_type": "error",
     "traceback": [
      "\u001b[0;31m---------------------------------------------------------------------------\u001b[0m",
      "\u001b[0;31mTypeError\u001b[0m                                 Traceback (most recent call last)",
      "\u001b[0;32m<ipython-input-128-d3d0f5a5c0f7>\u001b[0m in \u001b[0;36m<module>\u001b[0;34m()\u001b[0m\n\u001b[0;32m----> 1\u001b[0;31m \u001b[0;34m(\u001b[0m\u001b[0;36m1\u001b[0m\u001b[0;34m,\u001b[0m\u001b[0;36m2\u001b[0m\u001b[0;34m)\u001b[0m \u001b[0;34m+\u001b[0m \u001b[0;36m3\u001b[0m\u001b[0;34m\u001b[0m\u001b[0m\n\u001b[0m",
      "\u001b[0;31mTypeError\u001b[0m: can only concatenate tuple (not \"int\") to tuple"
     ]
    }
   ],
   "source": [
    "(1,2) + 3"
   ]
  },
  {
   "cell_type": "code",
   "execution_count": 135,
   "metadata": {
    "collapsed": false
   },
   "outputs": [
    {
     "data": {
      "text/plain": [
       "True"
      ]
     },
     "execution_count": 135,
     "metadata": {},
     "output_type": "execute_result"
    }
   ],
   "source": [
    "isinstance(((1,), ()), tuple)"
   ]
  },
  {
   "cell_type": "code",
   "execution_count": 139,
   "metadata": {
    "collapsed": false
   },
   "outputs": [
    {
     "data": {
      "text/plain": [
       "<generator object <genexpr> at 0x115034320>"
      ]
     },
     "execution_count": 139,
     "metadata": {},
     "output_type": "execute_result"
    }
   ],
   "source": [
    "(1+s for s in [1,2,3])"
   ]
  },
  {
   "cell_type": "code",
   "execution_count": 178,
   "metadata": {
    "collapsed": false
   },
   "outputs": [
    {
     "data": {
      "text/plain": [
       "[None, None, [{1, 2}, {1, 6, 8}]]"
      ]
     },
     "execution_count": 178,
     "metadata": {},
     "output_type": "execute_result"
    }
   ],
   "source": [
    "#8.4\n",
    "def get_subsets(s):\n",
    "    if len(s) == 1:\n",
    "        return [s, {6,8}]\n",
    "    new_s = s.copy()\n",
    "    element = new_s.pop()\n",
    "    subsets = get_subsets(new_s)\n",
    "    return [s.add(element) for s in subsets] + subsets\n",
    "\n",
    "\n",
    "def _get_subsets_memoized(elements, memo):\n",
    "    if len(elements) == 1:\n",
    "        return [elements, []]\n",
    "    if elements not in memo:\n",
    "        memo = [elements, []]\n",
    "    return [[elements[0]] + s for s in _get_subsets_memoized(elements[1:])] + _get_subsets_memoized(elements[1:])\n",
    "\n",
    "def get_subsets_memoized(s):\n",
    "    elements = tuple(s)\n",
    "    return _get_subsets_memoized(elements, {})\n",
    "\n",
    "\n",
    "get_subsets({1,2})"
   ]
  },
  {
   "cell_type": "code",
   "execution_count": 141,
   "metadata": {
    "collapsed": false
   },
   "outputs": [
    {
     "data": {
      "text/plain": [
       "3"
      ]
     },
     "execution_count": 141,
     "metadata": {},
     "output_type": "execute_result"
    }
   ],
   "source": [
    "len({1,2,3})"
   ]
  },
  {
   "cell_type": "code",
   "execution_count": 142,
   "metadata": {
    "collapsed": true
   },
   "outputs": [],
   "source": [
    "s = {1,2,3}"
   ]
  },
  {
   "cell_type": "code",
   "execution_count": 144,
   "metadata": {
    "collapsed": false
   },
   "outputs": [
    {
     "data": {
      "text/plain": [
       "1"
      ]
     },
     "execution_count": 144,
     "metadata": {},
     "output_type": "execute_result"
    }
   ],
   "source": [
    "s.pop()"
   ]
  },
  {
   "cell_type": "code",
   "execution_count": 148,
   "metadata": {
    "collapsed": false
   },
   "outputs": [
    {
     "data": {
      "text/plain": [
       "True"
      ]
     },
     "execution_count": 148,
     "metadata": {},
     "output_type": "execute_result"
    }
   ],
   "source": [
    "isinstance({1}, set)"
   ]
  },
  {
   "cell_type": "code",
   "execution_count": 150,
   "metadata": {
    "collapsed": false
   },
   "outputs": [
    {
     "data": {
      "text/plain": [
       "0"
      ]
     },
     "execution_count": 150,
     "metadata": {},
     "output_type": "execute_result"
    }
   ],
   "source": [
    "len(set())"
   ]
  },
  {
   "cell_type": "code",
   "execution_count": 170,
   "metadata": {
    "collapsed": false
   },
   "outputs": [],
   "source": []
  },
  {
   "cell_type": "code",
   "execution_count": null,
   "metadata": {
    "collapsed": true
   },
   "outputs": [],
   "source": [
    "def pivot_function(arr):\n",
    "    return arr[len(arr)/2]\n",
    "\n",
    "def quick_sort(arr):\n",
    "    if len(arr) == 1:\n",
    "        return arr\n",
    "    pivot = pivot_function(arr)\n",
    "    l = r = c = []\n",
    "    for n in arr:\n",
    "        if n < pivot:\n",
    "            l.append(n)\n",
    "        elif n > pivot:\n",
    "            r.append(n)\n",
    "        else:\n",
    "        %quickref.append(n)\n",
    "%quickrefeturn quick_sort(l) + c + quick_sort(r)\n",
    "    \n",
    "    \n",
    "quick_sort([1])"
   ]
  },
  {
   "cell_type": "code",
   "execution_count": null,
   "metadata": {
    "collapsed": true
   },
   "outputs": [],
   "source": [
    "def quick_sort(a):\n",
    "    return a if len(a) == 1 else quick_sort([n for n in a if n <= len(a)/2]) + quick_sort([n for n in a if n > len(a)/2])\n",
    "    \n",
    "    \n",
    "quick_sort([1])"
   ]
  },
  {
   "cell_type": "code",
   "execution_count": null,
   "metadata": {
    "collapsed": true
   },
   "outputs": [],
   "source": []
  },
  {
   "cell_type": "code",
   "execution_count": 23,
   "metadata": {
    "collapsed": false
   },
   "outputs": [
    {
     "data": {
      "text/plain": [
       "True"
      ]
     },
     "execution_count": 23,
     "metadata": {},
     "output_type": "execute_result"
    }
   ],
   "source": [
    "# 4.1\n",
    "\n",
    "import Queue\n",
    "\n",
    "G1 = {\n",
    "    'a': ['b'],\n",
    "    'b': ['c'],\n",
    "    'c': ['d'],\n",
    "    'd': ['b'],\n",
    "}\n",
    "\n",
    "G2 = {'A': ['B', 'C'],\n",
    "     'B': ['C', 'D'],\n",
    "     'C': ['D'],\n",
    "     'D': ['C'],\n",
    "     'E': ['F'],\n",
    "     'F': ['C']}\n",
    "\n",
    "def find_route_between_nodes(G, start_node, end_node):\n",
    "    queue = Queue.Queue()\n",
    "    visited = {start_node}\n",
    "    queue.put((start_node, [start_node]))\n",
    "    while not queue.empty():\n",
    "        node, history = queue.get()\n",
    "        if node == end_node:\n",
    "            return history\n",
    "        for n in G[node]:\n",
    "            if n not in visited:\n",
    "                visited.add(n) \n",
    "                queue.put((n, history + [n]))\n",
    "    return history\n",
    "\n",
    "def find_route_between_nodes_bidirectional(G, node1, node2):\n",
    "    q1 = Queue.Queue()\n",
    "    q2 = Queue.Queue()\n",
    "    visited1 = {node1}\n",
    "    visited2 = {node2}\n",
    "    q1.put(node1)\n",
    "    q2.put(node2)\n",
    "    toggle = True\n",
    "    while not q1.empty() or not q2.empty():\n",
    "        if toggle:\n",
    "            node = q1.get()\n",
    "            if node in visited2:\n",
    "                return True\n",
    "            for n in G[node]:\n",
    "                if n not in visited1:\n",
    "                    visited1.add(n)\n",
    "                    q1.put(n)\n",
    "        else:\n",
    "            node = q2.get()\n",
    "            if node in visited1:\n",
    "                return True\n",
    "            for n in G[node]:\n",
    "                if n not in visited2:\n",
    "                    visited2.add(n)\n",
    "                    q2.put(n)\n",
    "        toggle = not toggle\n",
    "    return False\n",
    "\n",
    "\n",
    "print find_route_between_nodes(G2, 'A', 'D')\n",
    "print find_route_between_nodes_bidirectional(G2, 'A', 'D')"
   ]
  },
  {
   "cell_type": "code",
   "execution_count": 30,
   "metadata": {
    "collapsed": false
   },
   "outputs": [
    {
     "name": "stdout",
     "output_type": "stream",
     "text": [
      "((((), (1,), ()), 3, ((), (6,), ())), 5, (((), (7,), ()), 8, ((), (9,), ())))\n"
     ]
    }
   ],
   "source": [
    "#4.2\n",
    "\n",
    "#takes sorted array\n",
    "def create_BST(arr):\n",
    "    if len(arr) == 1:\n",
    "        return ((), tuple(arr), ())\n",
    "    mid = len(arr)/2\n",
    "    return (create_BST(arr[0:mid]), arr[mid], create_BST(arr[mid + 1:]) )\n",
    "\n",
    "print create_BST([1,3,6,5,7,8,9])"
   ]
  },
  {
   "cell_type": "code",
   "execution_count": null,
   "metadata": {
    "collapsed": true
   },
   "outputs": [],
   "source": [
    "#4.3\n",
    "\n",
    "class Tree(object):\n",
    "    def __init__(self, x=None, l=None, r=None):\n",
    "        self.x = x\n",
    "        self.l = l\n",
    "        self.r = r\n",
    "\n",
    "class LL_Node(object):\n",
    "    def __init__(self, x=None, next_node=None):\n",
    "        self.x = x\n",
    "        self.next_node = next_node\n",
    "        \n",
    "\n",
    "class Linked_List(object):\n",
    "    def __init__(self, x=None):\n",
    "        self.first = LL_Node(x)\n",
    "        self.last = LL_Node(x)\n",
    "        \n",
    "    def add(self, x):\n",
    "        self.last.next_node = LL_Node(x)\n",
    "        self.last = self.last.next_node\n",
    "    \n",
    "    def __print__(self, x):\n",
    "        print 'something'\n",
    "\n",
    "def list_of_depths(binary_tree, ll_list=[], depth=0):\n",
    "    if binary_tree is None:\n",
    "        return\n",
    "    if len(ll_list) >= depth + 1:\n",
    "        ll_list[depth].add(binary_tree.x)\n",
    "    else:\n",
    "        ll_list.append(Linked_List(binary_tree.x))\n",
    "    list_of_depths(binary_tree.l, ll_list, depth=depth + 1)\n",
    "    list_of_depths(binary_tree.r, ll_list, depth=depth + 1)\n",
    "    return ll_list\n",
    "    \n",
    "    "
   ]
  },
  {
   "cell_type": "code",
   "execution_count": null,
   "metadata": {
    "collapsed": true
   },
   "outputs": [],
   "source": [
    "#4.4\n",
    "\n",
    "def check_balance(binary_tree, height=0):\n",
    "    if binary_tree is None:\n",
    "        return height\n",
    "    l_height = check_balance(binary_tree.l, height + 1)\n",
    "    r_height = check_balance(binary_tree.r, height + 1)\n",
    "    if not l_height or not r_height:\n",
    "        return False\n",
    "    if abs(l_height - r_height) > 1:\n",
    "        return False\n",
    "    return max(l_height, r_height)\n",
    "\n",
    "    "
   ]
  },
  {
   "cell_type": "code",
   "execution_count": 31,
   "metadata": {
    "collapsed": true
   },
   "outputs": [],
   "source": [
    "#4.5\n",
    "\n",
    "def validate_BST(bt, values=[]):\n",
    "    if bt is None:\n",
    "        return []  \n",
    "    l = validate_BST(bt.l)\n",
    "    r = validate_BST(bt.r)   \n",
    "    if l is False or r is False:\n",
    "        return False\n",
    "    if sum([True for n in l if n >= bt.x] + [True for n in r if n < bt.x]) > 0:\n",
    "        return False    \n",
    "    return l + [bt.x] + r"
   ]
  },
  {
   "cell_type": "code",
   "execution_count": null,
   "metadata": {
    "collapsed": false
   },
   "outputs": [],
   "source": []
  },
  {
   "cell_type": "code",
   "execution_count": 34,
   "metadata": {
    "collapsed": false
   },
   "outputs": [
    {
     "data": {
      "text/plain": [
       "False"
      ]
     },
     "execution_count": 34,
     "metadata": {},
     "output_type": "execute_result"
    }
   ],
   "source": [
    "class Tree(object):\n",
    "    def __init__(self, x=None, l=None, r=None):\n",
    "        self.x = x\n",
    "        self.l = l\n",
    "        self.r = r\n",
    "        \n",
    "    def __eq__(self, other)\n",
    "        if other.x == self.x:\n",
    "            return True\n",
    "        return False\n",
    "\n",
    "        \n",
    "        \n",
    "tree1 = Tree()\n",
    "tree2 = Tree()\n",
    "\n",
    "tree1 == tree2"
   ]
  },
  {
   "cell_type": "code",
   "execution_count": 35,
   "metadata": {
    "collapsed": false
   },
   "outputs": [
    {
     "data": {
      "text/plain": [
       "instance"
      ]
     },
     "execution_count": 35,
     "metadata": {},
     "output_type": "execute_result"
    }
   ],
   "source": [
    "type(tree1)"
   ]
  },
  {
   "cell_type": "code",
   "execution_count": null,
   "metadata": {
    "collapsed": true
   },
   "outputs": [],
   "source": []
  }
 ],
 "metadata": {
  "kernelspec": {
   "display_name": "Python [Root]",
   "language": "python",
   "name": "Python [Root]"
  }
 },
 "nbformat": 4,
 "nbformat_minor": 0
}
