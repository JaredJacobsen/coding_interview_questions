{
 "cells": [
  {
   "cell_type": "markdown",
   "metadata": {},
   "source": [
    "Dynamic programming is basically recursion with caching."
   ]
  },
  {
   "cell_type": "code",
   "execution_count": 24,
   "metadata": {
    "collapsed": true
   },
   "outputs": [],
   "source": [
    "#8.1\n",
    "\n",
    "def triple_step(n):\n",
    "    if n == 1: return 1\n",
    "    if n == 2: return 2\n",
    "    if n == 3: return 4\n",
    "    return triple_step(n - 1) + triple_step(n - 2) + triple_step(n - 3)\n",
    "\n",
    "#bottom-up dynamic programming\n",
    "def triple_step_DP(n):\n",
    "    if n == 1: return 1\n",
    "    if n == 2: return 2\n",
    "    if n == 3: return 4\n",
    "    memo = [0, 1, 2, 4]\n",
    "    for i in xrange(4, n):\n",
    "        memo.append(memo[i - 1] + memo[i - 2] + memo[i - 3])\n",
    "    return memo[-1]\n",
    "\n",
    "#top-down dynamic programming\n",
    "def triple_step_DP_top_down(n, memo = {}):\n",
    "    if n == 1: return 1\n",
    "    if n == 2: return 2\n",
    "    if n == 3: return 4\n",
    "    if n not in memo:\n",
    "        memo[n] = triple_step_DP_top_down(n - 1, memo) + triple_step_DP_top_down(n - 2, memo) + triple_step_DP_top_down(n - 3, memo)\n",
    "    return memo[n]"
   ]
  },
  {
   "cell_type": "code",
   "execution_count": 25,
   "metadata": {
    "collapsed": false
   },
   "outputs": [
    {
     "name": "stdout",
     "output_type": "stream",
     "text": [
      "7\n",
      "13\n",
      "24\n",
      "44\n",
      "81\n",
      "149\n",
      "274\n",
      "504\n",
      "927\n",
      "1705\n",
      "\n",
      "\n",
      "4\n",
      "7\n",
      "13\n",
      "24\n",
      "44\n",
      "81\n",
      "149\n",
      "274\n",
      "504\n",
      "927\n",
      "\n",
      "\n",
      "7\n",
      "13\n",
      "24\n",
      "44\n",
      "81\n",
      "149\n",
      "274\n",
      "504\n",
      "927\n",
      "1705\n",
      "\n",
      "\n"
     ]
    }
   ],
   "source": [
    "for f in [triple_step, triple_step_DP, triple_step_DP_top_down]:\n",
    "    for n in [4,5,6,7,8,9,10,11,12,13]:\n",
    "        print f(n)\n",
    "    print '\\n'"
   ]
  },
  {
   "cell_type": "code",
   "execution_count": null,
   "metadata": {
    "collapsed": true
   },
   "outputs": [],
   "source": []
  }
 ],
 "metadata": {
  "kernelspec": {
   "display_name": "Python 2",
   "language": "python",
   "name": "python2"
  },
  "language_info": {
   "codemirror_mode": {
    "name": "ipython",
    "version": 2
   },
   "file_extension": ".py",
   "mimetype": "text/x-python",
   "name": "python",
   "nbconvert_exporter": "python",
   "pygments_lexer": "ipython2",
   "version": "2.7.11"
  }
 },
 "nbformat": 4,
 "nbformat_minor": 0
}
