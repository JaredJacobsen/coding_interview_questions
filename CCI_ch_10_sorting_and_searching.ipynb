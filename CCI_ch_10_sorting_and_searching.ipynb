{
 "cells": [
  {
   "cell_type": "code",
   "execution_count": 10,
   "metadata": {
    "collapsed": false
   },
   "outputs": [
    {
     "name": "stdout",
     "output_type": "stream",
     "text": [
      "[1, 2, 4, 5, 6, 6, 7, 13, 15, 17]\n"
     ]
    }
   ],
   "source": [
    "#10.1\n",
    "\n",
    "def sorted_merge(A, B):\n",
    "    a_ix = 0\n",
    "    b_ix = 0\n",
    "    merged = []\n",
    "    while a_ix + b_ix < len(A) + len(B):\n",
    "        if a_ix >= len(A):\n",
    "            merged.append(B[b_ix])\n",
    "            b_ix += 1\n",
    "        elif b_ix >= len(B):\n",
    "            merged.append(A[a_ix])\n",
    "            a_ix += 1\n",
    "        elif A[a_ix] < B[b_ix]:\n",
    "            merged.append(A[a_ix])\n",
    "            a_ix += 1\n",
    "        else:\n",
    "            merged.append(B[b_ix])\n",
    "            b_ix += 1\n",
    "    return merged\n",
    "\n",
    "print sorted_merge([1,4,6,13,15,17], [2,5,6,7])"
   ]
  },
  {
   "cell_type": "code",
   "execution_count": 18,
   "metadata": {
    "collapsed": false
   },
   "outputs": [
    {
     "name": "stdout",
     "output_type": "stream",
     "text": [
      "['read', 'dear', 'pap', 'app', 'duck']\n"
     ]
    }
   ],
   "source": [
    "#10.2\n",
    "\n",
    "def group_anagrams(arr):\n",
    "    return sorted(arr, cmp=lambda a,b: -1 if ''.join(sorted(a)) <= ''.join(sorted(b)) else 1)\n",
    "\n",
    "print group_anagrams(['app', 'dear', 'pap', 'duck', 'read'])"
   ]
  },
  {
   "cell_type": "code",
   "execution_count": 9,
   "metadata": {
    "collapsed": false
   },
   "outputs": [
    {
     "data": {
      "text/plain": [
       "(1, [1])"
      ]
     },
     "execution_count": 9,
     "metadata": {},
     "output_type": "execute_result"
    }
   ],
   "source": [
    "#10.3\n",
    "\n",
    "def helper(arr, v):\n",
    "    if len(arr) == 1:\n",
    "        return 0\n",
    "    mid = len(arr)/2\n",
    "    if arr[mid] >= v:\n",
    "        return mid + helper(arr[mid:], v)\n",
    "    else:\n",
    "        return helper(arr[0:mid], v)\n",
    "\n",
    "def binary_search(arr, v, lower, upper):\n",
    "    if lower == upper:\n",
    "        return lower\n",
    "    mid = (upper - lower)/2\n",
    "    if arr[mid] <= v:\n",
    "        return binary_search(arr, v, mid + 1, upper)\n",
    "    else:\n",
    "        return binary_search(arr, v, lower, mid)\n",
    "    \n",
    "def search_in_rotated_array(arr, v):\n",
    "    shift_idx = helper(arr, arr[0])\n",
    "    arr = arr[shift_idx:] + arr[0:shift_idx]\n",
    "    i = binary_search(arr, v, 0, len(arr) - 1)\n",
    "    return (i + shift_idx) % len(arr)\n",
    "\n",
    "        "
   ]
  },
  {
   "cell_type": "code",
   "execution_count": 22,
   "metadata": {
    "collapsed": false
   },
   "outputs": [
    {
     "data": {
      "text/plain": [
       "[]"
      ]
     },
     "execution_count": 22,
     "metadata": {},
     "output_type": "execute_result"
    }
   ],
   "source": [
    "def _search_in_rotated_array(arr, v, prev, lower, upper):\n",
    "    mid = (upper - lower)/2 \n",
    "    if prev < arr[mid]:\n",
    "        if arr[mid] < :\n",
    "            \n",
    "        \n",
    "\n",
    "def search_in_rotated_array(arr, v):"
   ]
  },
  {
   "cell_type": "code",
   "execution_count": null,
   "metadata": {
    "collapsed": true
   },
   "outputs": [],
   "source": []
  }
 ],
 "metadata": {
  "anaconda-cloud": {},
  "kernelspec": {
   "display_name": "Python [Root]",
   "language": "python",
   "name": "Python [Root]"
  },
  "language_info": {
   "codemirror_mode": {
    "name": "ipython",
    "version": 2
   },
   "file_extension": ".py",
   "mimetype": "text/x-python",
   "name": "python",
   "nbconvert_exporter": "python",
   "pygments_lexer": "ipython2",
   "version": "2.7.12"
  }
 },
 "nbformat": 4,
 "nbformat_minor": 0
}
