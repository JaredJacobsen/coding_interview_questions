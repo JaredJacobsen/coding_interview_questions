{
 "cells": [
  {
   "cell_type": "code",
   "execution_count": 1,
   "metadata": {
    "collapsed": true
   },
   "outputs": [],
   "source": [
    "class Stack(object):\n",
    "    def __init__(self, stack=[]):\n",
    "        self.stack = stack\n",
    "        \n",
    "    def push(self, x):\n",
    "        self.stack.append(x)\n",
    "        \n",
    "    def pop(self):\n",
    "        return None if self.is_empty() else self.stack.pop()\n",
    "    \n",
    "    def peek(self):\n",
    "        return None if self.is_empty() else self.stack[-1]\n",
    "    \n",
    "    def get_stack(self):\n",
    "        return self.stack\n",
    "\n",
    "    def is_empty(self):\n",
    "        return len(self.stack) == 0\n"
   ]
  },
  {
   "cell_type": "code",
   "execution_count": 9,
   "metadata": {
    "collapsed": true
   },
   "outputs": [],
   "source": [
    "#3.2\n",
    "\n",
    "# This can be made more efficient by keeping a second stack that contains only min elements. As elements are pushed, if\n",
    "# they are smaller than the top element of the second stack, that element is pushed on to the second stack as well.\n",
    "class MinStack(object):\n",
    "    def __init__(self, stack=[]):\n",
    "        self.stack = stack\n",
    "        \n",
    "    def push(self, x):\n",
    "        self.stack.append((x, x if self.is_empty() else min(x, self.stack[-1][1])))\n",
    "        \n",
    "    def pop(self):\n",
    "        return None if self.is_empty() else self.stack.pop()[0]\n",
    "    \n",
    "    def peek(self):\n",
    "        return None if self.is_empty() else self.stack[-1][0]\n",
    "    \n",
    "    def get_min():\n",
    "        return None if self.is_empty() else self.stack[-1][1]\n",
    "    \n",
    "    def get_stack(self):\n",
    "        return self.stack\n",
    "\n",
    "    def is_empty(self):\n",
    "        return len(self.stack) == 0"
   ]
  },
  {
   "cell_type": "code",
   "execution_count": null,
   "metadata": {
    "collapsed": false
   },
   "outputs": [],
   "source": [
    "#3.3\n",
    "\n",
    "class SetOfStacks(object):\n",
    "    "
   ]
  },
  {
   "cell_type": "code",
   "execution_count": 10,
   "metadata": {
    "collapsed": true
   },
   "outputs": [],
   "source": [
    "#3.4\n",
    "\n",
    "class MyQueue(object):\n",
    "    def __init__(self):\n",
    "        s = Stack()\n",
    "        s2 = Stack()\n",
    "        \n",
    "    def push(self, x):\n",
    "        if s.is_empty():\n",
    "            while not s2.is_empty():\n",
    "                s.push(s2.pop())\n",
    "        s.push(x)\n",
    "        \n",
    "    def pop(self):\n",
    "        if s2.is_empty():\n",
    "            while not s.is_empty():\n",
    "                s2.push(s.pop())\n",
    "        return s2.pop()\n",
    "            "
   ]
  },
  {
   "cell_type": "code",
   "execution_count": 11,
   "metadata": {
    "collapsed": true
   },
   "outputs": [],
   "source": [
    "#3.5\n",
    "\n",
    "def sort_stack(s):\n",
    "    temp = Stack()\n",
    "    while not s.is_empty():\n",
    "        n = s.pop()\n",
    "        while not temp.is_empty() and temp.peek() > n:\n",
    "            s.push(temp.pop())\n",
    "        temp.push(n)\n",
    "    while not temp.is_empty():\n",
    "        s.push(temp.pop())\n",
    "\n",
    "        "
   ]
  },
  {
   "cell_type": "code",
   "execution_count": null,
   "metadata": {
    "collapsed": true
   },
   "outputs": [],
   "source": [
    "#3.6\n",
    "\n",
    "import Queue from queue\n",
    "\n",
    "class Animal_Shelter(object):\n",
    "    def __init__(self, animals):\n",
    "        self.dogs = Queue()\n",
    "        self.cats = Queue()\n",
    "        self.order = 0\n",
    "        for a in animals:\n",
    "            self.enqueue(a)\n",
    "                \n",
    "    def enqueue(self, animal):\n",
    "        if a == 'cat':\n",
    "            self.cats.enqueue((a, self.order))\n",
    "        if a == 'dog':\n",
    "            self.dogs.enqueue((a, self.order))\n",
    "        self.order += 1\n",
    "    \n",
    "    def dequeueAny(self, animal):\n",
    "        if self.cats.peek()[1] < self.dogs.peek()[1] \n",
    "            return self.cats.dequeue() \n",
    "        return self.dogs.dequeue()\n",
    "        \n",
    "\n",
    "\n",
    "            \n",
    "\n",
    "        "
   ]
  }
 ],
 "metadata": {
  "anaconda-cloud": {},
  "kernelspec": {
   "display_name": "Python [Root]",
   "language": "python",
   "name": "Python [Root]"
  },
  "language_info": {
   "codemirror_mode": {
    "name": "ipython",
    "version": 2
   },
   "file_extension": ".py",
   "mimetype": "text/x-python",
   "name": "python",
   "nbconvert_exporter": "python",
   "pygments_lexer": "ipython2",
   "version": "2.7.12"
  }
 },
 "nbformat": 4,
 "nbformat_minor": 0
}
